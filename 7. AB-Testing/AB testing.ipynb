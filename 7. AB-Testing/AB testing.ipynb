{
 "cells": [
  {
   "cell_type": "code",
   "execution_count": null,
   "id": "4bb0e8c7",
   "metadata": {},
   "outputs": [],
   "source": [
    "# Every time you want to refresh your app,\n",
    "# restart your kernel and rerun these TWO cells\n",
    "from jupyter_dash.comms import _send_jupyter_config_comm_request\n",
    "\n",
    "_send_jupyter_config_comm_request()"
   ]
  },
  {
   "cell_type": "code",
   "execution_count": null,
   "id": "c9de908a",
   "metadata": {},
   "outputs": [],
   "source": [
    "# Import `app` object from `display.py` module\n",
    "from display import app\n",
    "from jupyter_dash import JupyterDash  # noQA F401\n",
    "\n",
    "JupyterDash.infer_jupyter_proxy_config()\n",
    "\n",
    "# Start app server\n",
    "app.run_server(host=\"0.0.0.0\", mode=\"external\")"
   ]
  },
  {
   "cell_type": "code",
   "execution_count": null,
   "id": "34aae346",
   "metadata": {},
   "outputs": [],
   "source": [
    "from database import MongoRepository\n",
    "from pymongo.collection import Collection\n",
    "\n",
    "repo = MongoRepository()\n",
    "\n",
    "# Is `MongoRepository.collection` correct type?\n",
    "assert isinstance(repo.collection, Collection)\n",
    "\n",
    "# Is repo connected to correct collection?\n",
    "collection_name = repo.collection.name\n",
    "assert collection_name == \"ds-applicants\"\n",
    "\n",
    "print(\"repo collection:\", collection_name)"
   ]
  },
  {
   "cell_type": "code",
   "execution_count": null,
   "id": "b013842a",
   "metadata": {},
   "outputs": [],
   "source": [
    "import pandas as pd\n",
    "from database import MongoRepository\n",
    "\n",
    "repo = MongoRepository()\n",
    "\n",
    "# Does `MongoRepository.get_nationality_value_counts` return DataFrame?\n",
    "df = repo.get_nationality_value_counts(normalize=False)\n",
    "assert isinstance(df, pd.DataFrame)\n",
    "\n",
    "# Does DataFrame have correct columns?\n",
    "cols = sorted(df.columns.tolist())\n",
    "assert cols == [\"count\", \"country_iso2\", \"country_iso3\", \"country_name\"]\n",
    "df.head()"
   ]
  },
  {
   "cell_type": "code",
   "execution_count": null,
   "id": "1c728a1b",
   "metadata": {},
   "outputs": [],
   "source": [
    "from business import GraphBuilder\n",
    "from plotly.graph_objects import Figure\n",
    "\n",
    "gb = GraphBuilder()\n",
    "\n",
    "# Does `GraphBuilder.build_nat_choropleth` return a Figure?\n",
    "fig = gb.build_nat_choropleth()\n",
    "assert isinstance(fig, Figure)\n",
    "fig.show()"
   ]
  },
  {
   "cell_type": "code",
   "execution_count": null,
   "id": "e8c6d722",
   "metadata": {},
   "outputs": [],
   "source": [
    "import pandas as pd\n",
    "from database import MongoRepository\n",
    "\n",
    "repo = MongoRepository()\n",
    "# Does `MongoRepository.get_ages` return a Series?\n",
    "ages = repo.get_ages()\n",
    "assert isinstance(ages, pd.Series)\n",
    "ages.head()"
   ]
  },
  {
   "cell_type": "code",
   "execution_count": null,
   "id": "f77694fe",
   "metadata": {},
   "outputs": [],
   "source": [
    "from business import GraphBuilder\n",
    "from plotly.graph_objects import Figure\n",
    "\n",
    "gb = GraphBuilder()\n",
    "\n",
    "# Does `GraphBuilder.build_nat_choropleth` return a Figure?\n",
    "fig = gb.build_age_hist()\n",
    "assert isinstance(fig, Figure)\n",
    "fig.show()"
   ]
  },
  {
   "cell_type": "code",
   "execution_count": null,
   "id": "cf300660",
   "metadata": {},
   "outputs": [],
   "source": [
    "import pandas as pd\n",
    "from database import MongoRepository\n",
    "\n",
    "# Test  method\n",
    "repo = MongoRepository()\n",
    "\n",
    "# Does `MongoRepository.get_ed_value_counts` return a Series?\n",
    "degrees = repo.get_ed_value_counts(normalize=False)\n",
    "assert isinstance(degrees, pd.Series)\n",
    "\n",
    "# Is Series index ordered correctly?\n",
    "assert degrees.index.tolist() == [\n",
    "    \"High School or Baccalaureate\",\n",
    "    \"Some College (1-3 years)\",\n",
    "    \"Bachelor's degree\",\n",
    "    \"Master's degree\",\n",
    "    \"Doctorate (e.g. PhD)\",\n",
    "]\n",
    "\n",
    "degrees"
   ]
  },
  {
   "cell_type": "code",
   "execution_count": null,
   "id": "99aee56d",
   "metadata": {},
   "outputs": [],
   "source": [
    "from business import GraphBuilder\n",
    "from plotly.graph_objects import Figure\n",
    "\n",
    "gb = GraphBuilder()\n",
    "\n",
    "# Does `GraphBuilder.build_ed_bar` return a Figure?\n",
    "fig = gb.build_ed_bar()\n",
    "assert isinstance(fig, Figure)\n",
    "fig.show()"
   ]
  },
  {
   "cell_type": "markdown",
   "id": "807ef5fd",
   "metadata": {},
   "source": [
    "### EXPERIMENT"
   ]
  },
  {
   "cell_type": "markdown",
   "id": "d0862b76",
   "metadata": {},
   "source": [
    "from business import StatsBuilder\n",
    "from database import MongoRepository\n",
    "\n",
    "sb = StatsBuilder()\n",
    "\n",
    "# Is `StatsBuilder.repo` the correct data type?\n",
    "assert isinstance(sb.repo, MongoRepository)\n",
    "sb.repo.collection.name"
   ]
  },
  {
   "cell_type": "code",
   "execution_count": null,
   "id": "628a4a8b",
   "metadata": {},
   "outputs": [],
   "source": [
    "from business import StatsBuilder\n",
    "\n",
    "# Does `StatsBuilder.calculate_n_obs` return an int?\n",
    "n_obs = sb.calculate_n_obs(effect_size=0.2)\n",
    "assert isinstance(n_obs, int)\n",
    "\n",
    "# Does `StatsBuilder.calculate_n_obs` return correct number?\n",
    "assert n_obs == 394\n",
    "print(\"# observations for effect size of 0.2:\", n_obs)"
   ]
  },
  {
   "cell_type": "code",
   "execution_count": null,
   "id": "6f2ad500",
   "metadata": {},
   "outputs": [],
   "source": [
    "import pandas as pd\n",
    "import wqet_grader\n",
    "from database import MongoRepository\n",
    "from teaching_tools.ab_test.reset import Reset\n",
    "\n",
    "# Reset database, just in case\n",
    "r = Reset()\n",
    "r.reset_database()\n",
    "\n",
    "# Initialize grader\n",
    "wqet_grader.init(\"Project 7 Assessment\")\n",
    "\n",
    "\n",
    "# Instantiate `MongoRepository`\n",
    "repo = MongoRepository()\n",
    "\n",
    "# Does `MongoRepository.get_no_quiz_per_day` return a Series?\n",
    "no_quiz = repo.get_no_quiz_per_day()\n",
    "assert isinstance(no_quiz, pd.Series)\n",
    "\n",
    "# Does `MongoRepository.get_no_quiz_per_day` return correct value?\n",
    "assert no_quiz.shape == (30,)\n",
    "\n",
    "print(\"no_quiz shape:\", no_quiz.shape)\n",
    "print(no_quiz.head())\n",
    "\n",
    "# Submit `no_quiz` to grader\n",
    "wqet_grader.grade(\"Project 7 Assessment\", \"Task 7.4.15\", no_quiz)\n"
   ]
  },
  {
   "cell_type": "code",
   "execution_count": null,
   "id": "cd78b277",
   "metadata": {},
   "outputs": [],
   "source": [
    "from business import StatsBuilder\n",
    "\n",
    "sb = StatsBuilder()\n",
    "\n",
    "# Does `StatsBuilder.calculate_cdf_pct` return a float?\n",
    "pct = sb.calculate_cdf_pct(n_obs=394, days=12)\n",
    "assert isinstance(pct, float)\n",
    "\n",
    "# Does `StatsBuilder.calculate_cdf_pct` return correct value\n",
    "assert pct > 95\n",
    "assert pct <= 100\n",
    "\n",
    "print(f\"Probability: {pct}%\")"
   ]
  },
  {
   "cell_type": "markdown",
   "id": "6debae67",
   "metadata": {},
   "source": [
    "### RESULTS"
   ]
  },
  {
   "cell_type": "markdown",
   "id": "352e8f7a",
   "metadata": {},
   "source": [
    "from business import StatsBuilder\n",
    "from database import MongoRepository\n",
    "from teaching_tools.ab_test.experiment import Experiment\n",
    "\n",
    "mr = MongoRepository()\n",
    "exp = Experiment(repo=mr)\n",
    "sb = StatsBuilder()\n",
    "exp.reset_experiment()\n",
    "\n",
    "# Does `StatsBuilder.run_experiment` add documents to database?\n",
    "docs_before_exp = mr.collection.count_documents({})\n",
    "sb.run_experiment(days=1)\n",
    "docs_after_exp = mr.collection.count_documents({})\n",
    "assert docs_after_exp > docs_before_exp\n",
    "\n",
    "exp.reset_experiment()\n",
    "print(\"Documents added to database:\", docs_after_exp - docs_before_exp)"
   ]
  },
  {
   "cell_type": "code",
   "execution_count": null,
   "id": "e3bec33a",
   "metadata": {},
   "outputs": [],
   "source": [
    "import pandas as pd\n",
    "from business import StatsBuilder\n",
    "from database import MongoRepository\n",
    "\n",
    "sb = StatsBuilder()\n",
    "mr = MongoRepository()\n",
    "\n",
    "# Does `MongoRepository.get_contingency_table` return a DataFrame?\n",
    "sb.run_experiment(days=1)\n",
    "contingency_tab = mr.get_contingency_table()\n",
    "assert isinstance(contingency_tab, pd.DataFrame)\n",
    "\n",
    "# Does `MongoRepository.get_contingency_table` return right shape?\n",
    "assert contingency_tab.shape == (2, 2)\n",
    "contingency_tab"
   ]
  },
  {
   "cell_type": "code",
   "execution_count": null,
   "id": "8e2a3e94",
   "metadata": {},
   "outputs": [],
   "source": [
    "from business import GraphBuilder, StatsBuilder\n",
    "from plotly.graph_objects import Figure\n",
    "\n",
    "gb = GraphBuilder()\n",
    "sb = StatsBuilder()\n",
    "\n",
    "# Does `GraphBuilder.build_contingency_bar` return a Figure?\n",
    "sb.run_experiment(days=1)\n",
    "fig = gb.build_contingency_bar()\n",
    "assert isinstance(fig, Figure)\n",
    "fig.show()"
   ]
  },
  {
   "cell_type": "code",
   "execution_count": null,
   "id": "8e190523",
   "metadata": {},
   "outputs": [],
   "source": [
    "from business import StatsBuilder\n",
    "from statsmodels.stats.contingency_tables import _Bunch\n",
    "\n",
    "sb = StatsBuilder()\n",
    "\n",
    "# Does `StatsBuilder.run_chi_square` return a Bunch?\n",
    "sb.run_experiment(days=1)\n",
    "result = sb.run_chi_square()\n",
    "assert isinstance(result, _Bunch)\n",
    "\n",
    "# Is Bunch p-value correct?\n",
    "p_val = result.pvalue\n",
    "assert p_val > 0.05\n",
    "\n",
    "print(\"Experiment p-value:\", p_val)"
   ]
  }
 ],
 "metadata": {
  "kernelspec": {
   "display_name": "Python 3 (ipykernel)",
   "language": "python",
   "name": "python3"
  },
  "language_info": {
   "codemirror_mode": {
    "name": "ipython",
    "version": 3
   },
   "file_extension": ".py",
   "mimetype": "text/x-python",
   "name": "python",
   "nbconvert_exporter": "python",
   "pygments_lexer": "ipython3",
   "version": "3.9.12"
  }
 },
 "nbformat": 4,
 "nbformat_minor": 5
}
