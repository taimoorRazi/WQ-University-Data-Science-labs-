{
 "cells": [
  {
   "cell_type": "markdown",
   "id": "0b288e6b",
   "metadata": {},
   "source": [
    "# Assignment 1: Housing in Brazil "
   ]
  },
  {
   "cell_type": "markdown",
   "id": "11ec81ea",
   "metadata": {},
   "source": [
    "## Importing Libraries"
   ]
  },
  {
   "cell_type": "code",
   "execution_count": null,
   "id": "59e09c1b",
   "metadata": {},
   "outputs": [],
   "source": [
    "import pandas as pd\n",
    "import matplotlib.pyplot as plt\n",
    "import plotly.express as px"
   ]
  },
  {
   "cell_type": "markdown",
   "id": "52658ba0",
   "metadata": {},
   "source": [
    "## Prepare Data"
   ]
  },
  {
   "cell_type": "markdown",
   "id": "a8af84a2",
   "metadata": {},
   "source": [
    "### Import"
   ]
  },
  {
   "cell_type": "code",
   "execution_count": null,
   "id": "4d937bf0",
   "metadata": {},
   "outputs": [],
   "source": [
    "df1 = pd.read_csv(\"data/brasil-real-estate-1.csv\")\n",
    "df1.head()"
   ]
  },
  {
   "cell_type": "code",
   "execution_count": null,
   "id": "29fa31a3",
   "metadata": {},
   "outputs": [],
   "source": [
    "df1.shape"
   ]
  },
  {
   "cell_type": "code",
   "execution_count": null,
   "id": "af3014fd",
   "metadata": {},
   "outputs": [],
   "source": [
    "df1.info()"
   ]
  },
  {
   "cell_type": "code",
   "execution_count": null,
   "id": "8441a6e5",
   "metadata": {},
   "outputs": [],
   "source": [
    "df1.head()"
   ]
  },
  {
   "cell_type": "code",
   "execution_count": null,
   "id": "4b4d5118",
   "metadata": {},
   "outputs": [],
   "source": [
    "#drop Nan values\n",
    "df1.dropna(inplace = True)"
   ]
  },
  {
   "cell_type": "code",
   "execution_count": null,
   "id": "0c1733f1",
   "metadata": {},
   "outputs": [],
   "source": [
    "df1.shape"
   ]
  },
  {
   "cell_type": "code",
   "execution_count": null,
   "id": "23f34ec0",
   "metadata": {},
   "outputs": [],
   "source": [
    "#split lat-lon column and transform from object to float\n",
    "df1[[\"lat\", \"lon\"]] = df1[\"lat-lon\"].str.split(\",\",expand=True).astype(float)\n",
    "df1.head()"
   ]
  },
  {
   "cell_type": "code",
   "execution_count": null,
   "id": "79b1b622",
   "metadata": {},
   "outputs": [],
   "source": [
    "df1.info()"
   ]
  },
  {
   "cell_type": "code",
   "execution_count": null,
   "id": "e685a591",
   "metadata": {},
   "outputs": [],
   "source": [
    "# Create \"state\" col from \"place_with_parent_names\"\n",
    "df1[\"state\"] = df1[\"place_with_parent_names\"].str.split(\"|\", expand = True)[2]"
   ]
  },
  {
   "cell_type": "code",
   "execution_count": null,
   "id": "828b08dd",
   "metadata": {},
   "outputs": [],
   "source": [
    "#Transform price from object to float\n",
    "df1[\"price_usd\"] = df1[\"price_usd\"].str.replace(\"$\",\"\", regex = False).str.replace(\",\",\"\").astype(float)"
   ]
  },
  {
   "cell_type": "code",
   "execution_count": null,
   "id": "9d6a0163",
   "metadata": {},
   "outputs": [],
   "source": [
    "#drop columns\n",
    "df1.drop(columns = [\"place_with_parent_names\", \"lat-lon\"], inplace=True)\n",
    "df1.head()"
   ]
  },
  {
   "cell_type": "code",
   "execution_count": null,
   "id": "5c2dcd18",
   "metadata": {},
   "outputs": [],
   "source": [
    "df2 = pd.read_csv(\"data/brasil-real-estate-2.csv\")\n",
    "df2.head()"
   ]
  },
  {
   "cell_type": "code",
   "execution_count": null,
   "id": "654607e9",
   "metadata": {},
   "outputs": [],
   "source": [
    "df2.shape"
   ]
  },
  {
   "cell_type": "code",
   "execution_count": null,
   "id": "32de4964",
   "metadata": {},
   "outputs": [],
   "source": [
    "df2.info()"
   ]
  },
  {
   "cell_type": "code",
   "execution_count": null,
   "id": "4b4a5a66",
   "metadata": {},
   "outputs": [],
   "source": [
    "df2.head()"
   ]
  },
  {
   "cell_type": "code",
   "execution_count": null,
   "id": "c3007ccd",
   "metadata": {},
   "outputs": [],
   "source": [
    "df2[\"price_usd\"] = (df2[\"price_brl\"]/3.19)"
   ]
  },
  {
   "cell_type": "code",
   "execution_count": null,
   "id": "62814fc2",
   "metadata": {},
   "outputs": [],
   "source": [
    "#drop NaN Values\n",
    "df2.dropna(inplace = True)\n",
    "#drop price_mxn column\n",
    "df2.drop(columns=[\"price_brl\"], inplace=True)\n",
    "df2.head()\n"
   ]
  },
  {
   "cell_type": "code",
   "execution_count": null,
   "id": "9dbb39e4",
   "metadata": {},
   "outputs": [],
   "source": [
    "# Concatenate `df1` and `df2` to create a new DataFrame named `df\n",
    "= pd.concat([df1,df2])\n",
    "print(\"df shape:\", df.shape)"
   ]
  },
  {
   "cell_type": "markdown",
   "id": "0e0c014a",
   "metadata": {},
   "source": [
    "### Explore"
   ]
  },
  {
   "cell_type": "code",
   "execution_count": null,
   "id": "0e3d52bb",
   "metadata": {},
   "outputs": [],
   "source": [
    "fig = px.scatter_mapbox(\n",
    "    df,\n",
    "    lat=\"lat\",\n",
    "    lon=\"lon\",\n",
    "    center={\"lat\": -14.2, \"lon\": -51.9},  # Map will be centered on Brazil\n",
    "    width=600,\n",
    "    height=600,\n",
    "    hover_data=[\"price_usd\"],  # Display price when hovering mouse over house\n",
    ")\n",
    "\n",
    "fig.update_layout(mapbox_style=\"open-street-map\")\n",
    "\n",
    "fig.show()"
   ]
  },
  {
   "cell_type": "code",
   "execution_count": null,
   "id": "ca635af8",
   "metadata": {},
   "outputs": [],
   "source": [
    "summary_stats = df[[\"area_m2\",\"price_usd\"]].describe()\n",
    "summary_stats"
   ]
  },
  {
   "cell_type": "code",
   "execution_count": null,
   "id": "cc4271b1",
   "metadata": {},
   "outputs": [],
   "source": [
    "# Create a histogram of `\"price_usd\"\n",
    "plt.hist(df[\"price_usd\"])\n",
    "plt.title(\"Distribution of Home Prices\")\n",
    "plt.xlabel(\"Price [USD]\")\n",
    "plt.ylabel(\"Frequency\");"
   ]
  },
  {
   "cell_type": "code",
   "execution_count": null,
   "id": "fe7990eb",
   "metadata": {},
   "outputs": [],
   "source": [
    "# Boxplot\n",
    "plt.boxplot(df[\"area_m2\"], vert=False)\n",
    "plt.xlabel(\"Area [sq. meters]\")\n",
    "plt.title(\"Distribution of Home Sizes\");"
   ]
  },
  {
   "cell_type": "code",
   "execution_count": null,
   "id": "c4a48039",
   "metadata": {},
   "outputs": [],
   "source": [
    "mean_price_by_region = df.groupby(\"region\")[\"price_usd\"].mean().sort_values(ascending=False)\n",
    "mean_price_by_region"
   ]
  },
  {
   "cell_type": "code",
   "execution_count": null,
   "id": "4a414f02",
   "metadata": {},
   "outputs": [],
   "source": [
    "# Barchart \n",
    "mean_price_by_region.plot(kind = \"bar\",\n",
    "                             xlabel=\"Region\",\n",
    "                             ylabel=\"Mean Price [USD]\",\n",
    "                             title = \"Mean Home Price By Region\"\n",
    "                        );"
   ]
  },
  {
   "cell_type": "code",
   "execution_count": null,
   "id": "f7878821",
   "metadata": {},
   "outputs": [],
   "source": [
    "# Create a DataFrame `df_south` that contains all the homes from `df` that are in the `\"South\"` region. \n",
    "df_south = df[df[\"region\"] == \"South\"]\n",
    "df_south.head()"
   ]
  },
  {
   "cell_type": "code",
   "execution_count": null,
   "id": "c65bc240",
   "metadata": {},
   "outputs": [],
   "source": [
    "homes_by_state = df_south[\"state\"].value_counts()\n",
    "homes_by_state"
   ]
  },
  {
   "cell_type": "code",
   "execution_count": null,
   "id": "0b54f484",
   "metadata": {},
   "outputs": [],
   "source": [
    "# Subset `df` to include only observations from `\"Distrito Federal\"`\n",
    "df_Rio_Grande = df[df[\"state\"]==\"Rio Grande do Sul\"]\n",
    "plt.scatter(df_Rio_Grande[\"area_m2\"], df_Rio_Grande[\"price_usd\"])\n",
    "plt.xlabel(\"Area [sq meters]\")\n",
    "plt.ylabel(\"Price [USD]\")\n",
    "plt.title(\"Rio Grande do Sul: Price vs. Area\");"
   ]
  },
  {
   "cell_type": "code",
   "execution_count": null,
   "id": "e8f3bce3",
   "metadata": {},
   "outputs": [],
   "source": [
    "df_Santa_Catarina = df[df[\"state\"]==\"Santa Catarina\"]\n",
    "df_Paraná = df[df[\"state\"]==\"Paraná\"]\n",
    "p_correlation_Rio = df_Rio_Grande[\"area_m2\"].corr(df_Rio_Grande[\"price_usd\"])\n",
    "p_correlation_Santa_Catarina = df_Santa_Catarina[\"area_m2\"].corr(df_Santa_Catarina[\"price_usd\"])\n",
    "p_correlation_Paraná = df_Paraná[\"area_m2\"].corr(df_Paraná[\"price_usd\"])"
   ]
  },
  {
   "cell_type": "code",
   "execution_count": null,
   "id": "bda90ef2",
   "metadata": {},
   "outputs": [],
   "source": [
    "#  Create a dictionary `south_states_corr`, where the keys are the names of the three states in the `\"South\"` region of Brazil, and their associated values are the correlation coefficient between `\"area_m2\"` and `\"price_usd\"` in that state.\n",
    "south_states_corr = {'Rio Grande do Sul':p_correlation_Rio,\n",
    "                    'Santa Catarina':p_correlation_Santa_Catarina,\n",
    "                    'Paraná':p_correlation_Paraná}\n",
    "\n",
    "south_states_corr"
   ]
  }
 ],
 "metadata": {
  "kernelspec": {
   "display_name": "Python 3 (ipykernel)",
   "language": "python",
   "name": "python3"
  },
  "language_info": {
   "codemirror_mode": {
    "name": "ipython",
    "version": 3
   },
   "file_extension": ".py",
   "mimetype": "text/x-python",
   "name": "python",
   "nbconvert_exporter": "python",
   "pygments_lexer": "ipython3",
   "version": "3.9.7"
  }
 },
 "nbformat": 4,
 "nbformat_minor": 5
}
