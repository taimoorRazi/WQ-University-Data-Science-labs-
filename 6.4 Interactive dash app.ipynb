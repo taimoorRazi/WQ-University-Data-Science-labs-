{
 "cells": [
  {
   "cell_type": "markdown",
   "id": "d61af54c",
   "metadata": {},
   "source": [
    "# 6.4 Interactive Dashboard"
   ]
  },
  {
   "cell_type": "markdown",
   "id": "34413172",
   "metadata": {},
   "source": [
    "## Import Libraries"
   ]
  },
  {
   "cell_type": "code",
   "execution_count": null,
   "id": "4a8118de",
   "metadata": {},
   "outputs": [],
   "source": [
    "\n",
    "import pandas as pd\n",
    "import plotly.express as px\n",
    "from dash import Input, Output, dcc, html\n",
    "from jupyter_dash import JupyterDash\n",
    "from scipy.stats.mstats import trimmed_var\n",
    "from sklearn.cluster import KMeans\n",
    "from sklearn.decomposition import PCA\n",
    "from sklearn.metrics import silhouette_score\n",
    "from sklearn.pipeline import make_pipeline\n",
    "from sklearn.preprocessing import StandardScaler\n",
    "\n",
    "\n",
    "JupyterDash.infer_jupyter_proxy_config()"
   ]
  },
  {
   "cell_type": "markdown",
   "id": "25b90b3b",
   "metadata": {},
   "source": [
    "## Prepare Data"
   ]
  },
  {
   "cell_type": "markdown",
   "id": "d14e5c16",
   "metadata": {},
   "source": [
    "### Import"
   ]
  },
  {
   "cell_type": "code",
   "execution_count": null,
   "id": "b392e4f6",
   "metadata": {},
   "outputs": [],
   "source": [
    "def wrangle(filepath):\n",
    "    \"\"\"Read SCF data file into ``DataFrame``.\n",
    "\n",
    "    Returns only credit fearful households whose net worth is less than $2 million.\n",
    "\n",
    "    Parameters\n",
    "    ----------\n",
    "    filepath : str\n",
    "        Location of CSV file.\n",
    "    \"\"\"\n",
    "    #Load data\n",
    "    df = pd.read_csv(filepath)\n",
    "    #Create mask\n",
    "    mask = (df[\"TURNFEAR\"]==1) & (df[\"NETWORTH\"] < 2e6)\n",
    "    #Subset DataFrame\n",
    "    df = df[mask]\n",
    "    \n",
    "    return df"
   ]
  },
  {
   "cell_type": "code",
   "execution_count": null,
   "id": "8a3aa981",
   "metadata": {},
   "outputs": [],
   "source": [
    "wrangle?"
   ]
  },
  {
   "cell_type": "code",
   "execution_count": null,
   "id": "ac44f68c",
   "metadata": {},
   "outputs": [],
   "source": [
    "df = wrangle(\"data/SCFP2019.csv.gz\")\n",
    "print(df.shape)\n",
    "df.head()"
   ]
  },
  {
   "cell_type": "markdown",
   "id": "c004fe35",
   "metadata": {},
   "source": [
    "## Build Dashboard"
   ]
  },
  {
   "cell_type": "markdown",
   "id": "9adfc082",
   "metadata": {},
   "source": [
    "### Application layout"
   ]
  },
  {
   "cell_type": "code",
   "execution_count": null,
   "id": "bc17fc2c",
   "metadata": {},
   "outputs": [],
   "source": [
    "app = JupyterDash(__name__)"
   ]
  },
  {
   "cell_type": "code",
   "execution_count": null,
   "id": "dea51324",
   "metadata": {},
   "outputs": [],
   "source": [
    "app.layout = html.Div(\n",
    "    [\n",
    "        # Application title\n",
    "        html.H1(\"Survey of Consumer Finances\"),\n",
    "        # Bar chart element\n",
    "        html.H2(\"High Variance Features\"),\n",
    "        #Bar chart graph\n",
    "        dcc.Graph(figure = serve_bar_chart(),id=\"bar-chart\"),\n",
    "        dcc.RadioItems(\n",
    "            options= [\n",
    "                {\"label\": \"trimmed\", \"value\": True},\n",
    "                {\"label\": \"not trimmed\", \"value\": False}\n",
    "            ],\n",
    "            value= True,\n",
    "            id = \"trim-button\"\n",
    "        ),\n",
    "        html.H2(\"K-means Clustering\"),\n",
    "        html.H3(\"Number of Clusters (k)\"),\n",
    "        dcc.Slider(min=2, max=12, step = 1, value = 2 , id= \"k-slider\"),\n",
    "        html.Div(id=\"metrics\"),\n",
    "        #PCA scatter plot\n",
    "        dcc.Graph(id=\"pca-scatter\")\n",
    "    ]\n",
    "   \n",
    ")"
   ]
  },
  {
   "cell_type": "markdown",
   "id": "7d89add3",
   "metadata": {},
   "source": [
    "### Variance Bar chart"
   ]
  },
  {
   "cell_type": "code",
   "execution_count": null,
   "id": "86332d2f",
   "metadata": {},
   "outputs": [],
   "source": [
    "def get_high_var_features(trimmed=True, return_feat_names=True):\n",
    "\n",
    "    \"\"\"Returns the five highest-variance features of ``df``.\n",
    "\n",
    "    Parameters\n",
    "    ----------\n",
    "    trimmed : bool, default=True\n",
    "        If ``True``, calculates trimmed variance, removing bottom and top 10%\n",
    "        of observations.\n",
    "\n",
    "    return_feat_names : bool, default=False\n",
    "        If ``True``, returns feature names as a ``list``. If ``False``\n",
    "        returns ``Series``, where index is feature names and values are\n",
    "        variances.\n",
    "    \"\"\"\n",
    "    #Calculate Variance\n",
    "    if trimmed:\n",
    "        top_five_features= (\n",
    "            df.apply(trimmed_var).sort_values().tail(5)\n",
    "        )\n",
    "    else:\n",
    "        top_five_features = df.var().sort_values().tail(5)\n",
    "        \n",
    "    #Extract names\n",
    "    if return_feat_names:\n",
    "        top_five_features = top_five_features.index.tolist()\n",
    "    return top_five_features"
   ]
  },
  {
   "cell_type": "code",
   "execution_count": null,
   "id": "7bbd49c4",
   "metadata": {},
   "outputs": [],
   "source": [
    "get_high_var_features(trimmed=True, return_feat_names=True)"
   ]
  },
  {
   "cell_type": "code",
   "execution_count": null,
   "id": "1f5d34f5",
   "metadata": {},
   "outputs": [],
   "source": [
    "@app.callback(\n",
    "    Output(\"bar-chart\", \"figure\"), Input(\"trim-button\", \"value\")\n",
    ")\n",
    "def serve_bar_chart(trimmed=True):\n",
    "\n",
    "    \"\"\"Returns a horizontal bar chart of five highest-variance features.\n",
    "\n",
    "    Parameters\n",
    "    ----------\n",
    "    trimmed : bool, default=True\n",
    "        If ``True``, calculates trimmed variance, removing bottom and top 10%\n",
    "        of observations.\n",
    "    \"\"\"\n",
    "    # Get features\n",
    "    top_five_features = get_high_var_features(trimmed=trimmed, return_feat_names=False)\n",
    "    # Build bar chart\n",
    "    fig = px.bar(x=top_five_features, y=top_five_features.index, orientation=\"h\")\n",
    "    fig.update_layout(xaxis_title=\"Variance\", yaxis_title=\"Feature\")\n",
    "        \n",
    "    return fig"
   ]
  },
  {
   "cell_type": "code",
   "execution_count": null,
   "id": "d26593a8",
   "metadata": {},
   "outputs": [],
   "source": [
    "serve_bar_chart(trimmed=False)"
   ]
  },
  {
   "cell_type": "markdown",
   "id": "eabf8927",
   "metadata": {},
   "source": [
    "### K-means Slider and Metrics"
   ]
  },
  {
   "cell_type": "code",
   "execution_count": null,
   "id": "7c49db35",
   "metadata": {},
   "outputs": [],
   "source": [
    "def get_model_metrics(trimmed=True, k=2, return_metrics=False):\n",
    "\n",
    "    \"\"\"Build ``KMeans`` model based on five highest-variance features in ``df``.\n",
    "\n",
    "    Parameters\n",
    "    ----------\n",
    "    trimmed : bool, default=True\n",
    "        If ``True``, calculates trimmed variance, removing bottom and top 10%\n",
    "        of observations.\n",
    "\n",
    "    k : int, default=2\n",
    "        Number of clusters.\n",
    "\n",
    "    return_metrics : bool, default=False\n",
    "        If ``False`` returns ``KMeans`` model. If ``True`` returns ``dict``\n",
    "        with inertia and silhouette score.\n",
    "\n",
    "    \"\"\"\n",
    "    # Get high var features\n",
    "    features = get_high_var_features(trimmed=trimmed, return_feat_names=True)\n",
    "    # Create feature matrix\n",
    "    X = df[features]\n",
    "    # Build model\n",
    "    model = make_pipeline(StandardScaler(), KMeans(n_clusters=k, random_state=42))\n",
    "    model.fit(X)\n",
    "    \n",
    "    if return_metrics:\n",
    "        #Calculate Inertia\n",
    "        i = model.named_steps[\"kmeans\"].inertia_\n",
    "        #Calculate Silhouette score\n",
    "        ss = silhouette_score(X, model.named_steps[\"kmeans\"].labels_)\n",
    "        # Put results into dictionary\n",
    "        metrics = {\n",
    "            \"inertia\": round(i),\n",
    "            \"silhouette\": round(ss,3)\n",
    "        }\n",
    "        # return dictionary to users\n",
    "        return metrics\n",
    "    \n",
    "    return model"
   ]
  },
  {
   "cell_type": "code",
   "execution_count": null,
   "id": "72afc331",
   "metadata": {},
   "outputs": [],
   "source": [
    "get_model_metrics(trimmed=True, k=2, return_metrics=True)"
   ]
  },
  {
   "cell_type": "code",
   "execution_count": null,
   "id": "8847146a",
   "metadata": {},
   "outputs": [],
   "source": [
    "@app.callback(\n",
    "    Output(\"metrics\", \"children\"), \n",
    "    Input(\"trim-button\", \"value\"),\n",
    "    Input(\"k-slider\", \"value\")\n",
    ")\n",
    "def serve_metrics(trimmed=True, k=2):\n",
    "\n",
    "    \"\"\"Returns list of ``H3`` elements containing inertia and silhouette score\n",
    "    for ``KMeans`` model.\n",
    "\n",
    "    Parameters\n",
    "    ----------\n",
    "    trimmed : bool, default=True\n",
    "        If ``True``, calculates trimmed variance, removing bottom and top 10%\n",
    "        of observations.\n",
    "\n",
    "    k : int, default=2\n",
    "        Number of clusters.\n",
    "    \"\"\"\n",
    "    #Get metrics\n",
    "    metrics = get_model_metrics(trimmed=trimmed, k=k, return_metrics=True)\n",
    "    \n",
    "    #Add metrics to HTML elements\n",
    "    text = [\n",
    "        html.H3(f\"Inertia: {metrics['inertia']}\"),\n",
    "        html.H3(f\"Silhouette Score: {metrics['silhouette']}\")\n",
    "    ]\n",
    "    \n",
    "    return text"
   ]
  },
  {
   "cell_type": "code",
   "execution_count": null,
   "id": "215cc8d5",
   "metadata": {},
   "outputs": [],
   "source": [
    "serve_metrics()"
   ]
  },
  {
   "cell_type": "markdown",
   "id": "e8965a70",
   "metadata": {},
   "source": [
    "### PCA Scatter Plot"
   ]
  },
  {
   "cell_type": "code",
   "execution_count": null,
   "id": "b842418c",
   "metadata": {},
   "outputs": [],
   "source": [
    "def get_pca_labels(trimmed=True, k=2):\n",
    "\n",
    "    \"\"\"\n",
    "    ``KMeans`` labels.\n",
    "\n",
    "    Parameters\n",
    "    ----------\n",
    "    trimmed : bool, default=True\n",
    "        If ``True``, calculates trimmed variance, removing bottom and top 10%\n",
    "        of observations.\n",
    "\n",
    "    k : int, default=2\n",
    "        Number of clusters.\n",
    "    \"\"\"\n",
    "    # Create feature matrix\n",
    "    features= get_high_var_features(trimmed=trimmed, return_feat_names=True)\n",
    "    X = df[features]\n",
    "    \n",
    "    #Build Transformer\n",
    "    transformer = PCA(n_components=2, random_state=42)\n",
    "    \n",
    "    #Transform Data\n",
    "    X_t = transformer.fit_transform(X)\n",
    "    X_pca= pd.DataFrame(X_t, columns = [\"PC1\", \"PC2\"])\n",
    "    \n",
    "    #Add labels\n",
    "    model = get_model_metrics(trimmed=trimmed, k=k, return_metrics=False)\n",
    "    X_pca[\"labels\"] = model.named_steps[\"kmeans\"].labels_.astype(str)\n",
    "    X_pca.sort_values(\"labels\", inplace=True)\n",
    "    \n",
    "    return X_pca"
   ]
  },
  {
   "cell_type": "code",
   "execution_count": null,
   "id": "f96cc5c0",
   "metadata": {},
   "outputs": [],
   "source": [
    "get_pca_labels().tail()"
   ]
  },
  {
   "cell_type": "code",
   "execution_count": null,
   "id": "46eb0c65",
   "metadata": {},
   "outputs": [],
   "source": [
    "@app.callback(\n",
    "    Output(\"pca-scatter\", \"figure\"), \n",
    "    Input(\"trim-button\", \"value\"),\n",
    "    Input(\"k-slider\", \"value\")\n",
    ")\n",
    "def serve_scatter_plot(trimmed=True, k = 2):\n",
    "\n",
    "    \"\"\"Build 2D scatter plot of ``df`` with ``KMeans`` labels.\n",
    "\n",
    "    Parameters\n",
    "    ----------\n",
    "    trimmed : bool, default=True\n",
    "        If ``True``, calculates trimmed variance, removing bottom and top 10%\n",
    "        of observations.\n",
    "\n",
    "    k : int, default=2\n",
    "        Number of clusters.\n",
    "    \"\"\"\n",
    "    fig = px.scatter(\n",
    "        data_frame=get_pca_labels(trimmed=trimmed, k=k),\n",
    "        x = \"PC1\", \n",
    "        y= \"PC2\", \n",
    "        color = \"labels\",\n",
    "        title=\"PCA Representation of Clusters\"\n",
    "    )\n",
    "    fig.update_layout(xaxis_title=\"PC1\", yaxis_title=\"PC2\")\n",
    "    return fig"
   ]
  },
  {
   "cell_type": "markdown",
   "id": "b3db8b40",
   "metadata": {},
   "source": [
    "## Application Deployment"
   ]
  },
  {
   "cell_type": "code",
   "execution_count": null,
   "id": "fcfb4aeb",
   "metadata": {},
   "outputs": [],
   "source": [
    "app.run_server(host=\"0.0.0.0\", mode=\"external\")"
   ]
  }
 ],
 "metadata": {
  "kernelspec": {
   "display_name": "Python 3 (ipykernel)",
   "language": "python",
   "name": "python3"
  },
  "language_info": {
   "codemirror_mode": {
    "name": "ipython",
    "version": 3
   },
   "file_extension": ".py",
   "mimetype": "text/x-python",
   "name": "python",
   "nbconvert_exporter": "python",
   "pygments_lexer": "ipython3",
   "version": "3.9.7"
  }
 },
 "nbformat": 4,
 "nbformat_minor": 5
}
