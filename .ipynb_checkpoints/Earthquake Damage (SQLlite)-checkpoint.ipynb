{
 "cells": [
  {
   "cell_type": "markdown",
   "id": "7e2cf380",
   "metadata": {},
   "source": [
    "# Project: Earthquake Damage in Kavrepalanchok"
   ]
  },
  {
   "cell_type": "markdown",
   "id": "559b2705",
   "metadata": {},
   "source": [
    "## Import Libraries"
   ]
  },
  {
   "cell_type": "code",
   "execution_count": null,
   "id": "65f37edb",
   "metadata": {},
   "outputs": [],
   "source": [
    "import sqlite3\n",
    "import warnings\n",
    "\n",
    "import matplotlib.pyplot as plt\n",
    "import numpy as np\n",
    "import pandas as pd\n",
    "import seaborn as sns\n",
    "from category_encoders import OrdinalEncoder\n",
    "from category_encoders import OneHotEncoder\n",
    "from IPython.display import VimeoVideo\n",
    "from sklearn.linear_model import LogisticRegression\n",
    "from sklearn.tree import DecisionTreeClassifier, plot_tree\n",
    "from sklearn.metrics import accuracy_score\n",
    "from sklearn.model_selection import train_test_split\n",
    "from sklearn.pipeline import Pipeline, make_pipeline\n",
    "from sklearn.utils.validation import check_is_fitted\n",
    "\n",
    "warnings.simplefilter(action=\"ignore\", category=FutureWarning)"
   ]
  },
  {
   "cell_type": "markdown",
   "id": "57cd3149",
   "metadata": {},
   "source": [
    "## Prepare Data"
   ]
  },
  {
   "cell_type": "markdown",
   "id": "51fb7e65",
   "metadata": {},
   "source": [
    "### Connect"
   ]
  },
  {
   "cell_type": "code",
   "execution_count": null,
   "id": "a2201eff",
   "metadata": {},
   "outputs": [],
   "source": [
    "# Connect to the `nepal.sqlite` database.\n",
    "%load_ext sql\n",
    "%sql sqlite:////home/jovyan/nepal.sqlite"
   ]
  },
  {
   "cell_type": "code",
   "execution_count": null,
   "id": "82473f83",
   "metadata": {},
   "outputs": [],
   "source": [
    "# Determine the unique values in the **`district_id`** column.\n",
    "%%sql\n",
    "SELECT distinct(district_id)\n",
    "FROM id_map\n",
    "LIMIT 5"
   ]
  },
  {
   "cell_type": "code",
   "execution_count": null,
   "id": "2e4af79e",
   "metadata": {},
   "outputs": [],
   "source": [
    "#What's the district ID for Kavrepalanchok? \n",
    "# It is known that Gorkha is `4`; Ramechhap is `2`. \n",
    "# Of the remaining districts, Kavrepalanchok is the one with the largest number of observations in the `id_map` table."
   ]
  },
  {
   "cell_type": "code",
   "execution_count": null,
   "id": "f5dd8500",
   "metadata": {},
   "outputs": [],
   "source": [
    "%%sql\n",
    "SELECT COUNT(*)\n",
    "FROM id_map\n",
    "WHERE district_id=1"
   ]
  },
  {
   "cell_type": "code",
   "execution_count": null,
   "id": "440dbf53",
   "metadata": {},
   "outputs": [],
   "source": [
    "%%sql\n",
    "SELECT COUNT(*)\n",
    "FROM id_map\n",
    "WHERE district_id=3"
   ]
  },
  {
   "cell_type": "markdown",
   "id": "5ed8625c",
   "metadata": {},
   "source": [
    "#### This means that Kavrepalanchok is district_id = 3"
   ]
  },
  {
   "cell_type": "markdown",
   "id": "ad42a7b1",
   "metadata": {},
   "source": [
    "Join the unique building IDs from Kavrepalanchok in `id_map`, all the columns from  `building_structure`, and the `damage_grade` column from `building_damage`, limiting. \n",
    "Make sure you rename the `building_id` column in `id_map` as `b_id` and limit your results to the first five rows of the new table."
   ]
  },
  {
   "cell_type": "code",
   "execution_count": null,
   "id": "ed7a24e3",
   "metadata": {},
   "outputs": [],
   "source": [
    "%%sql\n",
    "SELECT *\n",
    "FROM building_damage\n",
    "LIMIT 5"
   ]
  },
  {
   "cell_type": "code",
   "execution_count": null,
   "id": "77960de7",
   "metadata": {},
   "outputs": [],
   "source": [
    "%%sql\n",
    "SELECT distinct(i.building_id) AS b_id,\n",
    "       s.*,\n",
    "       d.damage_grade\n",
    "FROM id_map AS i\n",
    "JOIN building_structure AS s ON i.building_id = s.building_id\n",
    "JOIN building_damage AS d ON i.building_id = d.building_id\n",
    "WHERE district_id = 3\n",
    "LIMIT 5"
   ]
  },
  {
   "cell_type": "markdown",
   "id": "e89f3e4d",
   "metadata": {},
   "source": [
    "### Import"
   ]
  },
  {
   "cell_type": "code",
   "execution_count": null,
   "id": "80a4495d",
   "metadata": {},
   "outputs": [],
   "source": [
    "# Build your `wrangle` function here\n",
    "def wrangle(db_path):\n",
    "    # Connect to database\n",
    "    conn = sqlite3.connect(db_path)\n",
    "    \n",
    "    # Construct query\n",
    "    query = \"\"\"\n",
    "    SELECT distinct(i.building_id) AS b_id,\n",
    "       s.*,\n",
    "       d.damage_grade\n",
    "    FROM id_map AS i\n",
    "    JOIN building_structure AS s ON i.building_id = s.building_id\n",
    "    JOIN building_damage AS d ON i.building_id = d.building_id\n",
    "    WHERE district_id = 3\n",
    "    \"\"\"\n",
    "\n",
    "    # Read query results into DataFrame\n",
    "    df = pd.read_sql(query, conn, index_col = \"b_id\")\n",
    "\n",
    "    # identify leaky columns\n",
    "    drop_cols = [col for col in df.columns if \"post_eq\" in col]\n",
    "\n",
    "\n",
    "    # create binary target\n",
    "    df[\"damage_grade\"] = df[\"damage_grade\"].str[-1].astype(int)\n",
    "    df[\"severe_damage\"] = (df[\"damage_grade\"] > 3).astype(int)\n",
    "\n",
    "    # drop old target \n",
    "    drop_cols.append(\"damage_grade\")\n",
    "\n",
    "    # drop multicollinearity column\n",
    "    drop_cols.append(\"count_floors_pre_eq\")\n",
    "\n",
    "    # drop high cardinality features\n",
    "    drop_cols.append(\"building_id\")\n",
    "\n",
    "    # drop columns\n",
    "    df.drop(columns=drop_cols, inplace=True)\n",
    "\n",
    "\n",
    "    return df"
   ]
  },
  {
   "cell_type": "code",
   "execution_count": null,
   "id": "9dcd5b84",
   "metadata": {},
   "outputs": [],
   "source": [
    "# query the database\n",
    "df = wrangle(\"/home/jovyan/nepal.sqlite\")\n",
    "df.head()"
   ]
  },
  {
   "cell_type": "markdown",
   "id": "a18b0ce0",
   "metadata": {},
   "source": [
    "### Explore"
   ]
  },
  {
   "cell_type": "markdown",
   "id": "ac88b329",
   "metadata": {},
   "source": [
    "##### Are the classes in this dataset balanced? Create a bar chart with the normalized value counts from the `\"severe_damage\"` column."
   ]
  },
  {
   "cell_type": "code",
   "execution_count": null,
   "id": "c3c8bd4a",
   "metadata": {},
   "outputs": [],
   "source": [
    "# Plot value counts of `\"severe_damage\"`\n",
    "df[\"severe_damage\"].value_counts(normalize=True).plot(\n",
    "    kind=\"bar\", xlabel=\"Class\", ylabel = \"Relative Frequency\", title =\"Class Balance\"\n",
    ")"
   ]
  },
  {
   "cell_type": "markdown",
   "id": "6d69c3b6",
   "metadata": {},
   "source": [
    "##### Is there a relationship between the footprint size of a building and the damage it sustained in the earthquake? Use seaborn to create a boxplot that shows the distributions of the `\"plinth_area_sq_ft\"` column for both groups in the `\"severe_damage\"` column."
   ]
  },
  {
   "cell_type": "code",
   "execution_count": null,
   "id": "cd29f2c2",
   "metadata": {},
   "outputs": [],
   "source": [
    "# Create boxplot\n",
    "sns.boxplot(x=\"severe_damage\", y=\"plinth_area_sq_ft\", data=df)\n",
    "# Label axes\n",
    "plt.xlabel(\"Severe Damage\")\n",
    "plt.ylabel(\"Plinth Area [sq. ft.]\")\n",
    "plt.title(\"Kavrepalanchok, Plinth Area vs Building Damage\")"
   ]
  },
  {
   "cell_type": "markdown",
   "id": "9af2dfb3",
   "metadata": {},
   "source": [
    "##### Are buildings with certain roof types more likely to suffer severe damage? Create a pivot table of `df` where the index is `\"roof_type\"` and the values come from the `\"severe_damage\"` column, aggregated by the mean."
   ]
  },
  {
   "cell_type": "code",
   "execution_count": null,
   "id": "01502dc4",
   "metadata": {},
   "outputs": [],
   "source": [
    "# Create pivot table\n",
    "roof_pivot = pd.pivot_table(\n",
    "    df, index=\"roof_type\", values=\"severe_damage\", aggfunc= np.mean\n",
    ").sort_values(by=\"severe_damage\")\n",
    "roof_pivot"
   ]
  },
  {
   "cell_type": "markdown",
   "id": "ca12388b",
   "metadata": {},
   "source": [
    "### Split"
   ]
  },
  {
   "cell_type": "code",
   "execution_count": null,
   "id": "cbf8c0b0",
   "metadata": {},
   "outputs": [],
   "source": [
    "target = \"severe_damage\"\n",
    "X = df.drop(columns=target)\n",
    "y = df[target]\n",
    "print(\"X shape:\", X.shape)\n",
    "print(\"y shape:\", y.shape)"
   ]
  },
  {
   "cell_type": "code",
   "execution_count": null,
   "id": "2b7b7d27",
   "metadata": {},
   "outputs": [],
   "source": [
    "X_train, X_val, y_train, y_val = train_test_split(\n",
    "    X, y, test_size=0.2, random_state=42\n",
    ")\n",
    "print(\"X_train shape:\", X_train.shape)\n",
    "print(\"y_train shape:\", y_train.shape)\n",
    "print(\"X_val shape:\", X_val.shape)\n",
    "print(\"y_val shape:\", y_val.shape)"
   ]
  },
  {
   "cell_type": "markdown",
   "id": "c74decfe",
   "metadata": {},
   "source": [
    "## Build Model "
   ]
  },
  {
   "cell_type": "markdown",
   "id": "39922323",
   "metadata": {},
   "source": [
    "### Baseline Model"
   ]
  },
  {
   "cell_type": "code",
   "execution_count": null,
   "id": "a09e4347",
   "metadata": {},
   "outputs": [],
   "source": [
    "acc_baseline = y_train.value_counts(normalize=True).max()\n",
    "print(\"Baseline Accuracy:\", round(acc_baseline, 2))"
   ]
  },
  {
   "cell_type": "markdown",
   "id": "7f228e8a",
   "metadata": {},
   "source": [
    "### Iterate "
   ]
  },
  {
   "cell_type": "markdown",
   "id": "5c74a014",
   "metadata": {},
   "source": [
    "#### Logistic Regression "
   ]
  },
  {
   "cell_type": "code",
   "execution_count": null,
   "id": "f42cffab",
   "metadata": {},
   "outputs": [],
   "source": [
    "# Build model\n",
    "model_lr = make_pipeline(\n",
    "    OneHotEncoder(use_cat_names=True),\n",
    "    LogisticRegression(max_iter=1000, n_jobs=-1)\n",
    ")\n",
    "# Fit model to training data\n",
    "model_lr.fit(X_train, y_train)\n"
   ]
  },
  {
   "cell_type": "code",
   "execution_count": null,
   "id": "bd80566e",
   "metadata": {},
   "outputs": [],
   "source": [
    "lr_train_acc = model_lr.score(X_train,y_train)\n",
    "lr_val_acc = model_lr.score(X_val,y_val)\n",
    "\n",
    "print(\"Logistic Regression, Training Accuracy Score:\", lr_train_acc)\n",
    "print(\"Logistic Regression, Validation Accuracy Score:\", lr_val_acc)"
   ]
  },
  {
   "cell_type": "markdown",
   "id": "c46f1c45",
   "metadata": {},
   "source": [
    "#### Decision Tree"
   ]
  },
  {
   "cell_type": "code",
   "execution_count": null,
   "id": "635a00d1",
   "metadata": {},
   "outputs": [],
   "source": [
    "depth_hyperparams = range(1, 16)\n",
    "training_acc = []\n",
    "validation_acc = []\n",
    "for d in depth_hyperparams:\n",
    "    # Create model with `max_depth` of `d`\n",
    "    model_dt = make_pipeline(\n",
    "        OrdinalEncoder(),\n",
    "        DecisionTreeClassifier(max_depth=d, random_state=42)\n",
    "    )\n",
    "    model_dt.fit(X_train, y_train)\n",
    "    # Calculate training accuracy score and append to `training_acc`\n",
    "    training_acc.append(model_dt.score(X_train,y_train))\n",
    "    # Calculate validation accuracy score and append to `training_acc`\n",
    "    validation_acc.append(model_dt.score(X_val,y_val))\n",
    "\n",
    "print(\"Training Accuracy Scores:\", training_acc[:3])\n",
    "print(\"Validation Accuracy Scores:\", validation_acc[:3])"
   ]
  },
  {
   "cell_type": "code",
   "execution_count": null,
   "id": "13d835dc",
   "metadata": {},
   "outputs": [],
   "source": [
    "# Plot `depth_hyperparams`, `training_acc`\n",
    "plt.plot(depth_hyperparams, training_acc, label=\"training\")\n",
    "plt.plot(depth_hyperparams, validation_acc, label=\"validation\")\n",
    "plt.xlabel(\"Max Depth\")\n",
    "plt.ylabel(\"Accuracy Score\")\n",
    "plt.legend();\n",
    "\n",
    "# Don't delete the code below 👇\n",
    "plt.savefig(\"images/4-5-15.png\", dpi=150)\n"
   ]
  },
  {
   "cell_type": "markdown",
   "id": "ca94b597",
   "metadata": {},
   "source": [
    "#### Best model"
   ]
  },
  {
   "cell_type": "code",
   "execution_count": null,
   "id": "7401dc45",
   "metadata": {},
   "outputs": [],
   "source": [
    "#Build Model\n",
    "final_model_dt = make_pipeline(\n",
    "        OrdinalEncoder(),\n",
    "        DecisionTreeClassifier(max_depth=10,random_state=42)\n",
    "    )\n",
    "# Fit model to training data\n",
    "final_model_dt.fit(X_train,y_train)\n"
   ]
  },
  {
   "cell_type": "markdown",
   "id": "cfbeda5f",
   "metadata": {},
   "source": [
    "### Evaluate "
   ]
  },
  {
   "cell_type": "markdown",
   "id": "fdd70f17",
   "metadata": {},
   "source": [
    "How does your model perform on the test set? First, read the CSV file `\"data/kavrepalanchok-test-features.csv\"` into the DataFrame `X_test`. Next, use `final_model_dt` to generate a list of test predictions `y_test_pred`. Finally, submit your test predictions to the grader to see how your model performs.\n",
    "\n",
    "**Tip:** Make sure the order of the columns in `X_test` is the same as in your `X_train`. Otherwise, it could hurt your model's performance."
   ]
  },
  {
   "cell_type": "code",
   "execution_count": null,
   "id": "e87ebac4",
   "metadata": {},
   "outputs": [],
   "source": [
    "X_test = pd.read_csv(\"data/kavrepalanchok-test-features.csv\", index_col=\"b_id\")\n",
    "y_test_pred = final_model_dt.predict(X_test)\n",
    "y_test_pred[:5]"
   ]
  },
  {
   "cell_type": "markdown",
   "id": "2f0e4db0",
   "metadata": {},
   "source": [
    "## Communicate Results"
   ]
  },
  {
   "cell_type": "code",
   "execution_count": null,
   "id": "495f98bc",
   "metadata": {},
   "outputs": [],
   "source": [
    "features = X_train.columns\n",
    "importances = final_model_dt.named_steps[\"decisiontreeclassifier\"].feature_importances_\n",
    "\n",
    "print(\"Features:\", features[:3])\n",
    "print(\"Importances:\", importances[:3])\n",
    "\n",
    "feat_imp = pd.Series(importances, index=features).sort_values()\n",
    "feat_imp.head()"
   ]
  },
  {
   "cell_type": "code",
   "execution_count": null,
   "id": "574070ca",
   "metadata": {},
   "outputs": [],
   "source": [
    "# Create horizontal bar chart of feature importances\n",
    "# Create horizontal bar chart\n",
    "feat_imp.tail().plot(kind=\"barh\")\n",
    "plt.xlabel(\"Gini Importance\")\n",
    "plt.ylabel(\"Feature\");\n",
    "\n",
    "# Don't delete the code below 👇\n",
    "plt.tight_layout()\n",
    "plt.savefig(\"images/4-5-19.png\", dpi=150)\n"
   ]
  }
 ],
 "metadata": {
  "kernelspec": {
   "display_name": "Python 3 (ipykernel)",
   "language": "python",
   "name": "python3"
  },
  "language_info": {
   "codemirror_mode": {
    "name": "ipython",
    "version": 3
   },
   "file_extension": ".py",
   "mimetype": "text/x-python",
   "name": "python",
   "nbconvert_exporter": "python",
   "pygments_lexer": "ipython3",
   "version": "3.9.7"
  }
 },
 "nbformat": 4,
 "nbformat_minor": 5
}
