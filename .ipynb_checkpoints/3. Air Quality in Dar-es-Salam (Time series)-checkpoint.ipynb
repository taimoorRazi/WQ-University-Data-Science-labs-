{
 "cells": [
  {
   "cell_type": "markdown",
   "id": "6d97c668",
   "metadata": {},
   "source": [
    "# Assignment 3: Air Quality in Dar es Salam"
   ]
  },
  {
   "cell_type": "markdown",
   "id": "83b01212",
   "metadata": {},
   "source": [
    "## Import Libraries"
   ]
  },
  {
   "cell_type": "code",
   "execution_count": null,
   "id": "3ef9c056",
   "metadata": {},
   "outputs": [],
   "source": [
    "import inspect\n",
    "import time\n",
    "\n",
    "import matplotlib.pyplot as plt\n",
    "import pandas as pd\n",
    "import plotly.express as px\n",
    "import seaborn as sns\n",
    "from pymongo import MongoClient\n",
    "from sklearn.metrics import mean_absolute_error\n",
    "from statsmodels.graphics.tsaplots import plot_acf, plot_pacf\n",
    "from statsmodels.tsa.arima.model import ARIMA\n",
    "from statsmodels.tsa.ar_model import AutoReg"
   ]
  },
  {
   "cell_type": "code",
   "execution_count": null,
   "id": "63f1a1a4",
   "metadata": {},
   "outputs": [],
   "source": [
    "from pprint import PrettyPrinter\n",
    "pp = PrettyPrinter(indent=2)"
   ]
  },
  {
   "cell_type": "markdown",
   "id": "11c71836",
   "metadata": {},
   "source": [
    "## Prepare Data"
   ]
  },
  {
   "cell_type": "markdown",
   "id": "006596cc",
   "metadata": {},
   "source": [
    "### Connect to MongoDB"
   ]
  },
  {
   "cell_type": "code",
   "execution_count": null,
   "id": "c18b3d86",
   "metadata": {},
   "outputs": [],
   "source": [
    "client = MongoClient(host = \"localhost\", port = 27017)\n",
    "db = client[\"air-quality\"]\n",
    "dar = db[\"dar-es-salaam\"]"
   ]
  },
  {
   "cell_type": "code",
   "execution_count": null,
   "id": "2d5c29d6",
   "metadata": {},
   "outputs": [],
   "source": [
    "for c in db.list_collections():\n",
    "    print(c[\"name\"])"
   ]
  },
  {
   "cell_type": "markdown",
   "id": "64550104",
   "metadata": {},
   "source": [
    "### Explore"
   ]
  },
  {
   "cell_type": "code",
   "execution_count": null,
   "id": "9b0a941f",
   "metadata": {},
   "outputs": [],
   "source": [
    "result = dar.find_one()\n",
    "pp.pprint(result)"
   ]
  },
  {
   "cell_type": "code",
   "execution_count": null,
   "id": "a613c251",
   "metadata": {},
   "outputs": [],
   "source": [
    "dar.distinct(\"metadata.sensor_type\")"
   ]
  },
  {
   "cell_type": "code",
   "execution_count": null,
   "id": "f436b3fc",
   "metadata": {},
   "outputs": [],
   "source": [
    "sites = dar.distinct(\"metadata.site\")\n",
    "sites"
   ]
  },
  {
   "cell_type": "code",
   "execution_count": null,
   "id": "681da787",
   "metadata": {},
   "outputs": [],
   "source": [
    "# Determine which site in the Dar es Salaam collection has the most sensor readings (of any type, not just PM2.5 readings).\n",
    "print(\"Documents from site 11:\", dar.count_documents({\"metadata.site\": 11}))\n",
    "print(\"Documents from site 23:\", dar.count_documents({\"metadata.site\": 23}))"
   ]
  },
  {
   "cell_type": "code",
   "execution_count": null,
   "id": "d04f881e",
   "metadata": {},
   "outputs": [],
   "source": [
    "## Perform aggregation calculations on documents using PyMongo.\n",
    "readings_per_site = [\n",
    "        {\"_id\": 11, \"count\": dar.count_documents({\"metadata.site\": 11})}, {\"_id\": 23, \"count\": dar.count_documents({\"metadata.site\": 23})}\n",
    "    ]\n",
    "\n",
    "pp.pprint(list(readings_per_site))"
   ]
  },
  {
   "cell_type": "markdown",
   "id": "076f31f9",
   "metadata": {},
   "source": [
    "### Import"
   ]
  },
  {
   "cell_type": "markdown",
   "id": "1a6b964d",
   "metadata": {},
   "source": [
    "Create a `wrangle` function that will extract the PM2.5 readings from the site that has the most total readings in the Dar es Salaam collection. Your function should do the following steps:\n",
    "\n",
    "1. Localize reading time stamps to the timezone for `\"Africa/Dar_es_Salaam\"`.\n",
    "2. Remove all outlier PM2.5 readings that are above 100. \n",
    "3. Resample the data to provide the mean PM2.5 reading for each hour.\n",
    "4. Impute any missing values using the forward-will method. \n",
    "5. Return a Series `y`. "
   ]
  },
  {
   "cell_type": "code",
   "execution_count": null,
   "id": "47ec5d86",
   "metadata": {},
   "outputs": [],
   "source": [
    "result = dar.find(\n",
    "    {\"metadata.site\": 11, \"metadata.measurement\":\"P2\"}\n",
    ")\n",
    "pp.pprint(result.next())"
   ]
  },
  {
   "cell_type": "code",
   "execution_count": null,
   "id": "cb1e4fe7",
   "metadata": {},
   "outputs": [],
   "source": [
    "def wrangle(collection, resample_rule=\"1H\"):\n",
    "\n",
    "    results = collection.find(\n",
    "        {\"metadata.site\": 11, \"metadata.measurement\": \"P2\"},\n",
    "        projection={\"P2\": 1, \"timestamp\": 1, \"_id\": 0},\n",
    "    )\n",
    "\n",
    "    # Read results into DataFrame\n",
    "    df = pd.DataFrame(list(results)).set_index(\"timestamp\")\n",
    "\n",
    "    # Localize timezone\n",
    "    df.index = df.index.tz_localize(\"UTC\").tz_convert(\"Africa/Dar_es_Salaam\")\n",
    "\n",
    "    # Remove outliers\n",
    "    df = df[df[\"P2\"] < 100]\n",
    "\n",
    "    # Resample and forward-fill\n",
    "    y = df[\"P2\"].resample(resample_rule).mean().fillna(method='ffill')\n",
    "      \n",
    "    return y"
   ]
  },
  {
   "cell_type": "code",
   "execution_count": null,
   "id": "9c0ab4a9",
   "metadata": {},
   "outputs": [],
   "source": [
    "y = wrangle(dar)\n",
    "y.tail()"
   ]
  },
  {
   "cell_type": "markdown",
   "id": "f4c364a6",
   "metadata": {},
   "source": [
    "### Explore some more"
   ]
  },
  {
   "cell_type": "code",
   "execution_count": null,
   "id": "e112c1ec",
   "metadata": {},
   "outputs": [],
   "source": [
    "fig, ax = plt.subplots(figsize=(15, 6))\n",
    "y.plot(xlabel=\"Date\", ylabel = \"PM2.5 Level\", title=\"Dar es Salaam PM2.5 Levels\", ax=ax)"
   ]
  },
  {
   "cell_type": "code",
   "execution_count": null,
   "id": "47cc289e",
   "metadata": {},
   "outputs": [],
   "source": [
    "# Rolling average\n",
    "fig, ax = plt.subplots(figsize=(15, 6))\n",
    "y.rolling(168).mean().plot(ax=ax, ylabel=\"PM2.5 Level\", title=\"Dar es Salaam PM2.5 Levels, 7-Day Rolling Average\");"
   ]
  },
  {
   "cell_type": "code",
   "execution_count": null,
   "id": "24782a7c",
   "metadata": {},
   "outputs": [],
   "source": [
    "# ACF plot for the data in y\n",
    "fig, ax = plt.subplots(figsize=(15, 6))\n",
    "plot_acf(y,ax=ax)\n",
    "plt.title(\"Dar es Salaam PM2.5 Readings, ACF\")\n",
    "plt.xlabel(\"Lag [hours]\")\n",
    "plt.ylabel(\"Correlation Coefficient\");"
   ]
  },
  {
   "cell_type": "code",
   "execution_count": null,
   "id": "441c770b",
   "metadata": {},
   "outputs": [],
   "source": [
    "# PACF plot for the data in y\n",
    "fig, ax = plt.subplots(figsize=(15, 6))\n",
    "plot_pacf(y,ax=ax)\n",
    "plt.xlabel(\"Lag [hours]\")\n",
    "plt.ylabel(\"Correlation Coefficient\");"
   ]
  },
  {
   "cell_type": "markdown",
   "id": "272e43de",
   "metadata": {},
   "source": [
    "## Split"
   ]
  },
  {
   "cell_type": "code",
   "execution_count": null,
   "id": "b6a229f2",
   "metadata": {},
   "outputs": [],
   "source": [
    "cutoff_test = int(len(y)*0.90)\n",
    "y_train = y.iloc[:cutoff_test]\n",
    "y_test = y.iloc[cutoff_test:]\n",
    "print(\"y_train shape:\", y_train.shape)\n",
    "print(\"y_test shape:\", y_test.shape)"
   ]
  },
  {
   "cell_type": "code",
   "execution_count": null,
   "id": "803c92ac",
   "metadata": {},
   "outputs": [],
   "source": [
    "len(y_train) + len(y_test) == len(y)"
   ]
  },
  {
   "cell_type": "markdown",
   "id": "a124e566",
   "metadata": {},
   "source": [
    "## Build Model"
   ]
  },
  {
   "cell_type": "markdown",
   "id": "dd7d7073",
   "metadata": {},
   "source": [
    "### Baseline"
   ]
  },
  {
   "cell_type": "code",
   "execution_count": null,
   "id": "83b320ca",
   "metadata": {},
   "outputs": [],
   "source": [
    "y_train_mean = y_train.mean()\n",
    "y_pred_baseline = [y_train_mean] * len(y_train)\n",
    "mae_baseline = mean_absolute_error(y_train, y_pred_baseline)\n",
    "\n",
    "print(\"Mean P2 Reading:\", round(y_train_mean, 2))\n",
    "print(\"Baseline MAE:\", round(mae_baseline, 2))"
   ]
  },
  {
   "cell_type": "markdown",
   "id": "d2d8b2f1",
   "metadata": {},
   "source": [
    "### Iterate"
   ]
  },
  {
   "cell_type": "code",
   "execution_count": null,
   "id": "c6b5442a",
   "metadata": {},
   "outputs": [],
   "source": [
    "#use an AR model to predict PM2.5 readings\n",
    "#Hyperparameter Tuning p"
   ]
  },
  {
   "cell_type": "code",
   "execution_count": null,
   "id": "2c7e6775",
   "metadata": {},
   "outputs": [],
   "source": [
    "p_params = range(1, 31)\n",
    "# Outer loop: Iterate through possible values for `p`\n",
    "maes = []\n",
    "for p in p_params:\n",
    "    \n",
    "    # Note start time\n",
    "    start_time = time.time()\n",
    "    # Train model\n",
    "    model = AutoReg(y_train, lags=p).fit()\n",
    "    # Calculate model training time\n",
    "    elapsed_time = round(time.time() - start_time, 2)\n",
    "    print(f\"Trained ARIMA {p} in {elapsed_time} seconds.\")\n",
    "    # Generate in-sample (training) predictions\n",
    "    y_pred = model.predict()\n",
    "    # Calculate training MAE\n",
    "    mae = mean_absolute_error(y_train,y_pred)\n",
    "    print(mae)\n",
    "    # Append MAE to list in dictionary\n",
    "    maes.append(mae)"
   ]
  },
  {
   "cell_type": "code",
   "execution_count": null,
   "id": "578b0a81",
   "metadata": {},
   "outputs": [],
   "source": [
    "mae_series = pd.Series(maes, name=\"mae\", index=p_params)\n",
    "mae_series.head()"
   ]
  },
  {
   "cell_type": "code",
   "execution_count": null,
   "id": "f1cda1a7",
   "metadata": {},
   "outputs": [],
   "source": [
    "#Best model\n",
    "best_p = 8\n",
    "best_model = AutoReg(y_train, lags=8).fit()"
   ]
  },
  {
   "cell_type": "code",
   "execution_count": null,
   "id": "e379cae5",
   "metadata": {},
   "outputs": [],
   "source": [
    "y_train_resid = model.resid\n",
    "y_train_resid.name = \"residuals\"\n",
    "y_train_resid.head()"
   ]
  },
  {
   "cell_type": "code",
   "execution_count": null,
   "id": "0832ca63",
   "metadata": {},
   "outputs": [],
   "source": [
    "# Plot histogram of residuals\n",
    "y_train_resid.hist();\n",
    "plt.xlabel(\"Residuals\")\n",
    "plt.ylabel(\"Frequency\")\n",
    "plt.title(\"Best Model, Training Residuals\");"
   ]
  },
  {
   "cell_type": "markdown",
   "id": "a48a8a8b",
   "metadata": {},
   "source": [
    "## Evaluate"
   ]
  },
  {
   "cell_type": "code",
   "execution_count": null,
   "id": "433ccb6e",
   "metadata": {},
   "outputs": [],
   "source": [
    "# Walkforward Validation\n",
    "\n",
    "%%capture\n",
    "\n",
    "y_pred_wfv = pd.Series()\n",
    "history = y_train.copy()\n",
    "for i in range(len(y_test)):\n",
    "    model= AutoReg(history, lags=8).fit()\n",
    "    next_pred = model.forecast()\n",
    "    y_pred_wfv = y_pred_wfv.append(next_pred)\n",
    "    history = history.append(y_test[next_pred.index])\n",
    "    pass\n",
    "y_pred_wfv.name = \"prediction\"\n",
    "y_pred_wfv.index.name = \"timestamp\"\n",
    "y_pred_wfv.head()"
   ]
  },
  {
   "cell_type": "markdown",
   "id": "4115c6b0",
   "metadata": {},
   "source": [
    "## Communicate Results"
   ]
  },
  {
   "cell_type": "code",
   "execution_count": null,
   "id": "06c4adf1",
   "metadata": {},
   "outputs": [],
   "source": [
    "df_pred_test = pd.DataFrame(\n",
    "    {\"y_test\": y_test, \"y_pred_wfv\": y_pred_wfv}\n",
    ")\n",
    "fig = px.line(df_pred_test, labels={\"value\": \"PM2.5\"})\n",
    "fig.show()\n",
    "\n",
    "fig.update_layout(\n",
    "    title=\"Dar es Salaam, WFV Predictions\",\n",
    "    xaxis_title=\"Date\",\n",
    "    yaxis_title=\"PM2.5 Level\",\n",
    ")"
   ]
  },
  {
   "cell_type": "code",
   "execution_count": null,
   "id": "0f95676f",
   "metadata": {},
   "outputs": [],
   "source": [
    "# Put the values for `y_test` and `y_pred_wfv` into the DataFrame `df_pred_test` (don't forget the index). Then plot `df_pred_test` using plotly express.\n",
    "df_pred_test = pd.DataFrame(\n",
    "    {\"y_test\": y_test, \"y_pred_wfv\": y_pred_wfv}\n",
    ")\n",
    "fig = px.line(df_pred_test, labels={\"value\": \"PM2.5\"})\n",
    "fig.show()\n",
    "\n",
    "fig.update_layout(\n",
    "    title=\"Dar es Salaam, WFV Predictions\",\n",
    "    xaxis_title=\"Date\",\n",
    "    yaxis_title=\"PM2.5 Level\",\n",
    ")"
   ]
  }
 ],
 "metadata": {
  "kernelspec": {
   "display_name": "Python 3 (ipykernel)",
   "language": "python",
   "name": "python3"
  },
  "language_info": {
   "codemirror_mode": {
    "name": "ipython",
    "version": 3
   },
   "file_extension": ".py",
   "mimetype": "text/x-python",
   "name": "python",
   "nbconvert_exporter": "python",
   "pygments_lexer": "ipython3",
   "version": "3.9.7"
  }
 },
 "nbformat": 4,
 "nbformat_minor": 5
}
