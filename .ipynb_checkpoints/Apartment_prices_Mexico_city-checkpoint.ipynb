{
 "cells": [
  {
   "cell_type": "markdown",
   "id": "ddec8944",
   "metadata": {},
   "source": [
    "# Project: Predicting Apartment Prices in Mexico City"
   ]
  },
  {
   "cell_type": "markdown",
   "id": "d41d4078",
   "metadata": {},
   "source": [
    "## Import Libraries"
   ]
  },
  {
   "cell_type": "code",
   "execution_count": null,
   "id": "f383ad09",
   "metadata": {},
   "outputs": [],
   "source": [
    "from glob import glob\n",
    "import matplotlib.pyplot as plt\n",
    "import numpy as np\n",
    "import pandas as pd\n",
    "import seaborn as sns\n",
    "from category_encoders import OneHotEncoder\n",
    "import plotly.express as px\n",
    "import plotly.graph_objects as go\n",
    "from IPython.display import VimeoVideo\n",
    "from sklearn.impute import SimpleImputer\n",
    "from sklearn.linear_model import LinearRegression, Ridge\n",
    "from sklearn.metrics import mean_absolute_error\n",
    "from sklearn.pipeline import Pipeline, make_pipeline\n",
    "from sklearn.utils.validation import check_is_fitted"
   ]
  },
  {
   "cell_type": "markdown",
   "id": "c5031d8e",
   "metadata": {},
   "source": [
    "## Prepare Data"
   ]
  },
  {
   "cell_type": "markdown",
   "id": "8f1b7a44",
   "metadata": {},
   "source": [
    "## Import"
   ]
  },
  {
   "cell_type": "markdown",
   "id": "45b81b2a",
   "metadata": {},
   "source": [
    "`wrangle` function that takes the name of a CSV file as input and returns a DataFrame. The function do the following steps:\n",
    "\n",
    "1. Subset the data in the CSV file and return only apartments in Mexico City (`\"Distrito Federal\"`) that cost less than \\$100,000.\n",
    "2. Remove outliers by trimming the bottom and top 10\\% of properties in terms of `\"surface_covered_in_m2\"`.\n",
    "3. Create separate `\"lat\"` and `\"lon\"` columns.\n",
    "4. Mexico City is divided into [16 boroughs](https://en.wikipedia.org/wiki/Boroughs_of_Mexico_City). Create a `\"borough\"` feature from the `\"place_with_parent_names\"` column.\n",
    "5. Drop columns that are more than 50\\% null values.\n",
    "6. Drop columns containing low- or high-cardinality categorical values. \n",
    "7. Drop any columns that would constitute leakage for the target `\"price_aprox_usd\"`.\n",
    "8. Drop any columns that would create issues of multicollinearity. "
   ]
  },
  {
   "cell_type": "code",
   "execution_count": null,
   "id": "088ade9f",
   "metadata": {},
   "outputs": [],
   "source": [
    "# Build wrangle` function\n",
    "def wrangle(filepath):\n",
    "    # Read CSV file\n",
    "    df = pd.read_csv(filepath)\n",
    "\n",
    "    # Subset data: Apartments in \"Capital Federal\", less than 100,000\n",
    "    mask_ba = df[\"place_with_parent_names\"].str.contains(\"Distrito Federal\")\n",
    "    mask_apt = df[\"property_type\"] == \"apartment\"\n",
    "    mask_price = df[\"price_aprox_usd\"] < 100_000\n",
    "    df = df[mask_ba & mask_apt & mask_price]\n",
    "\n",
    "    # Subset data: Remove outliers for \"surface_covered_in_m2\"\n",
    "    low, high = df[\"surface_covered_in_m2\"].quantile([0.1, 0.9])\n",
    "    mask_area = df[\"surface_covered_in_m2\"].between(low, high)\n",
    "    df = df[mask_area]\n",
    "\n",
    "    # Split \"lat-lon\" column\n",
    "    df[[\"lat\", \"lon\"]] = df[\"lat-lon\"].str.split(\",\", expand=True).astype(float)\n",
    "    df.drop(columns=\"lat-lon\", inplace=True)\n",
    "\n",
    "    # Get place name\n",
    "    df[\"borough\"] = df[\"place_with_parent_names\"].str.split(\"|\", expand=True)[1]\n",
    "    df.drop(columns=\"place_with_parent_names\", inplace=True)\n",
    "    \n",
    "    #drop features with high null values\n",
    "    df.drop(columns = [\"floor\", \"expenses\"], inplace=True)   \n",
    "    \n",
    "    #drop low and high cardinality categorical variables\n",
    "    df.drop(columns=[\"operation\", \"property_type\", \"currency\", \"properati_url\"], inplace = True)\n",
    "    \n",
    "    #drop leaky columns\n",
    "    df.drop(columns=[\"price\",\"price_aprox_local_currency\",\"price_usd_per_m2\",\"price_per_m2\"], inplace=True)\n",
    "\n",
    "    #drop columns with multicolinearity\n",
    "    df.drop(columns=[\"surface_total_in_m2\", \"rooms\"], inplace =True)\n",
    "    return df"
   ]
  },
  {
   "cell_type": "code",
   "execution_count": null,
   "id": "c8dcf792",
   "metadata": {},
   "outputs": [],
   "source": [
    "## Use this cell to test your wrangle function and explore the data\n",
    "#df.info()"
   ]
  },
  {
   "cell_type": "code",
   "execution_count": null,
   "id": "10366963",
   "metadata": {},
   "outputs": [],
   "source": [
    "# Use glob to create the list `files`. It contain the filenames of all the Mexico City real estate CSVs in the `./data` directory, except for `mexico-city-test-features.csv\n",
    "files = glob(\"data/mexico-city-real-estate-*.csv\")\n",
    "files"
   ]
  },
  {
   "cell_type": "code",
   "execution_count": null,
   "id": "094823c6",
   "metadata": {},
   "outputs": [],
   "source": [
    "# Combine wrangle` function, a list comprehension, and `pd.concat` to create a DataFrame `df`. It contain all the properties from the five CSVs in `files`.\n",
    "frames = [wrangle(file) for file in files]\n",
    "df = pd.concat(frames, ignore_index=True)\n",
    "print(df.info())\n",
    "df.head()"
   ]
  },
  {
   "cell_type": "markdown",
   "id": "124e5ad3",
   "metadata": {},
   "source": [
    "## Explore"
   ]
  },
  {
   "cell_type": "code",
   "execution_count": null,
   "id": "fae68cae",
   "metadata": {},
   "outputs": [],
   "source": [
    "# histogram showing the distribution of apartment prices (`\"price_aprox_usd\"`) in `df`."
   ]
  },
  {
   "cell_type": "code",
   "execution_count": null,
   "id": "0490f858",
   "metadata": {},
   "outputs": [],
   "source": [
    "df.isnull().sum()/len(df)"
   ]
  },
  {
   "cell_type": "code",
   "execution_count": null,
   "id": "095d71f4",
   "metadata": {},
   "outputs": [],
   "source": [
    "df.select_dtypes(\"object\").nunique()"
   ]
  },
  {
   "cell_type": "code",
   "execution_count": null,
   "id": "15d95fdd",
   "metadata": {},
   "outputs": [],
   "source": [
    "corr = df.select_dtypes(\"number\").drop(columns=\"price_aprox_usd\").corr()\n",
    "sns.heatmap(corr) \n",
    "#should drop highly correlated features like area,rooms"
   ]
  },
  {
   "cell_type": "code",
   "execution_count": null,
   "id": "80df53e1",
   "metadata": {},
   "outputs": [],
   "source": [
    "# Plot distribution of price\n",
    "plt.hist(df[\"price_aprox_usd\"] )\n",
    "plt.xlabel(\"Area [sq meters]\")\n",
    "plt.ylabel(\"Count\")\n",
    "plt.title(\"Distribution of Apartment Prices\");"
   ]
  },
  {
   "cell_type": "code",
   "execution_count": null,
   "id": "62cfffdf",
   "metadata": {},
   "outputs": [],
   "source": [
    "# scatter plot that shows apartment price (`\"price_aprox_usd\"`) as a function of apartment size (`\"surface_covered_in_m2\"`)\n",
    "# Plot price vs area\n",
    "plt.scatter(df[\"surface_covered_in_m2\"], df[\"price_aprox_usd\"])\n",
    "plt.xlabel(\"Area [sq meters]\")\n",
    "plt.ylabel(\"Price [USD]\")\n",
    "plt.title(\"Mexico City: Price vs Area\");"
   ]
  },
  {
   "cell_type": "code",
   "execution_count": null,
   "id": "1db52bb1",
   "metadata": {},
   "outputs": [],
   "source": [
    "# Plot Mapbox scatter plot that shows the location of the apartments in your dataset and represent their price using color\n",
    "fig = px.scatter_mapbox(\n",
    "    df,  # Our DataFrame\n",
    "    lat= \"lat\",\n",
    "    lon= \"lon\",\n",
    "    width=600,  # Width of map\n",
    "    height=600,  # Height of map\n",
    "    color= \"price_aprox_usd\",\n",
    "    hover_data=[\"price_aprox_usd\"],  # Display price when hovering mouse over house\n",
    ")\n",
    "\n",
    "fig.update_layout(mapbox_style=\"open-street-map\")\n",
    "\n",
    "fig.show()"
   ]
  },
  {
   "cell_type": "markdown",
   "id": "dedc4dd7",
   "metadata": {},
   "source": [
    "## Split"
   ]
  },
  {
   "cell_type": "code",
   "execution_count": null,
   "id": "b4dfc290",
   "metadata": {},
   "outputs": [],
   "source": [
    "# Split data into feature matrix `X_train` and target vector `y_train`.\n",
    "\n",
    "target = \"price_aprox_usd\"\n",
    "y_train = df[target]\n",
    "features = [\"surface_covered_in_m2\", \"lat\", \"lon\", \"borough\"]\n",
    "X_train = df[features]"
   ]
  },
  {
   "cell_type": "markdown",
   "id": "b19553ad",
   "metadata": {},
   "source": [
    "## Build Model"
   ]
  },
  {
   "cell_type": "markdown",
   "id": "fd2cd875",
   "metadata": {},
   "source": [
    "### BaseLine"
   ]
  },
  {
   "cell_type": "code",
   "execution_count": null,
   "id": "ca4c6b35",
   "metadata": {},
   "outputs": [],
   "source": [
    "y_mean = y_train.mean()\n",
    "y_pred_baseline = [y_mean] * len(y_train)\n",
    "baseline_mae = mean_absolute_error(y_train, y_pred_baseline)\n",
    "print(\"Mean apt price:\", y_mean)\n",
    "print(\"Baseline MAE:\", baseline_mae)"
   ]
  },
  {
   "cell_type": "markdown",
   "id": "46fea29b",
   "metadata": {},
   "source": [
    "### Iterate"
   ]
  },
  {
   "cell_type": "code",
   "execution_count": null,
   "id": "cc530df7",
   "metadata": {},
   "outputs": [],
   "source": [
    "# Build Model\n",
    "model = make_pipeline(OneHotEncoder(use_cat_names=True),\n",
    "                      SimpleImputer(),\n",
    "                      Ridge()\n",
    ")\n",
    "# Fit model\n",
    "model.fit(X_train,y_train)"
   ]
  },
  {
   "cell_type": "markdown",
   "id": "9baaef88",
   "metadata": {},
   "source": [
    "## Evaluate"
   ]
  },
  {
   "cell_type": "code",
   "execution_count": null,
   "id": "d1c7d504",
   "metadata": {},
   "outputs": [],
   "source": [
    "X_test = pd.read_csv(\"data/mexico-city-test-features.csv\")\n",
    "print(X_test.info())\n",
    "X_test.head()"
   ]
  },
  {
   "cell_type": "code",
   "execution_count": null,
   "id": "a9ef1bbb",
   "metadata": {},
   "outputs": [],
   "source": [
    "y_test_pred = pd.Series(model.predict(X_test))\n",
    "y_test_pred.head()"
   ]
  },
  {
   "cell_type": "markdown",
   "id": "5ab24a3e",
   "metadata": {},
   "source": [
    "## Communicate Results"
   ]
  },
  {
   "cell_type": "code",
   "execution_count": null,
   "id": "c9a8b8ce",
   "metadata": {},
   "outputs": [],
   "source": [
    "intercept = model.named_steps[\"ridge\"].intercept_\n",
    "coefficients = model.named_steps[\"ridge\"].coef_\n",
    "features = model.named_steps[\"onehotencoder\"].get_feature_names()\n",
    "feat_imp = pd.Series(coefficients, index=features)\n",
    "feat_imp"
   ]
  },
  {
   "cell_type": "markdown",
   "id": "803d6824",
   "metadata": {},
   "source": [
    "### 10 most Influencial coeffiicient for model"
   ]
  },
  {
   "cell_type": "code",
   "execution_count": null,
   "id": "6a02722c",
   "metadata": {},
   "outputs": [],
   "source": [
    "# Create horizontal bar chart\n",
    "feat_imp.sort_values(key=abs).tail(10).plot(kind=\"barh\")\n",
    "plt.xlabel(\"Importance [USD]\")\n",
    "plt.ylabel(\"Feature\")\n",
    "plt.title(\"Feature Importance for Apartment Price\")\n",
    "# Don't delete the code below 👇\n",
    "plt.savefig(\"images/2-5-14.png\", dpi=150)\n"
   ]
  }
 ],
 "metadata": {
  "kernelspec": {
   "display_name": "Python 3 (ipykernel)",
   "language": "python",
   "name": "python3"
  },
  "language_info": {
   "codemirror_mode": {
    "name": "ipython",
    "version": 3
   },
   "file_extension": ".py",
   "mimetype": "text/x-python",
   "name": "python",
   "nbconvert_exporter": "python",
   "pygments_lexer": "ipython3",
   "version": "3.9.7"
  }
 },
 "nbformat": 4,
 "nbformat_minor": 5
}
