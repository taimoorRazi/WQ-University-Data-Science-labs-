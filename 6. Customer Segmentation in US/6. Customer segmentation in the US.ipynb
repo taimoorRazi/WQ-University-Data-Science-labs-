{
 "cells": [
  {
   "cell_type": "markdown",
   "id": "8121f97b",
   "metadata": {},
   "source": [
    "# 6.5. Small Business Owners in the United States🇺🇸"
   ]
  },
  {
   "cell_type": "markdown",
   "id": "0179ff16",
   "metadata": {},
   "source": [
    "In this assignment, we will focus on business owners in the United States. We'll start by examining some demographic characteristics of the group, such as age, income category, and debt vs home value. Then we'll select high-variance features, and create a clustering model to divide small business owners into subgroups. Finally, we'll create some visualizations to highlight the differences between these subgroups."
   ]
  },
  {
   "cell_type": "markdown",
   "id": "31d64c2a",
   "metadata": {},
   "source": [
    "## Import Libraries"
   ]
  },
  {
   "cell_type": "code",
   "execution_count": null,
   "id": "462f6ad2",
   "metadata": {},
   "outputs": [],
   "source": [
    "# Import libraries here\n",
    "\n",
    "import pandas as pd\n",
    "import plotly.express as px\n",
    "import seaborn as sns\n",
    "import matplotlib.pyplot as plt\n",
    "import wqet_grader\n",
    "from IPython.display import VimeoVideo\n",
    "from scipy.stats.mstats import trimmed_var\n",
    "from sklearn.cluster import KMeans\n",
    "from sklearn.decomposition import PCA\n",
    "from sklearn.metrics import silhouette_score\n",
    "from sklearn.pipeline import make_pipeline\n",
    "from sklearn.preprocessing import StandardScaler"
   ]
  },
  {
   "cell_type": "markdown",
   "id": "2849d177",
   "metadata": {},
   "source": [
    "## Prepare Data"
   ]
  },
  {
   "cell_type": "markdown",
   "id": "b01410b9",
   "metadata": {},
   "source": [
    "### Import Data"
   ]
  },
  {
   "cell_type": "code",
   "execution_count": null,
   "id": "56a87b42",
   "metadata": {},
   "outputs": [],
   "source": [
    "df = pd.read_csv(\"data/SCFP2019.csv.gz\")\n",
    "print(\"df shape:\", df.shape)\n",
    "df.head()"
   ]
  },
  {
   "cell_type": "markdown",
   "id": "034d8564",
   "metadata": {},
   "source": [
    "### Explore"
   ]
  },
  {
   "cell_type": "code",
   "execution_count": null,
   "id": "38e34b2a",
   "metadata": {},
   "outputs": [],
   "source": [
    "df[\"HBUS\"].mean()"
   ]
  },
  {
   "cell_type": "code",
   "execution_count": null,
   "id": "517c5f06",
   "metadata": {},
   "outputs": [],
   "source": [
    "pct_biz_owners = df[\"HBUS\"].mean()\n",
    "print(\"% of business owners in df:\", pct_biz_owners)"
   ]
  },
  {
   "cell_type": "code",
   "execution_count": null,
   "id": "50ab9aa5",
   "metadata": {},
   "outputs": [],
   "source": [
    "inccat_dict = {\n",
    "    1: \"0-20\",\n",
    "    2: \"21-39.9\",\n",
    "    3: \"40-59.9\",\n",
    "    4: \"60-79.9\",\n",
    "    5: \"80-89.9\",\n",
    "    6: \"90-100\",\n",
    "}\n",
    "\n",
    "df_inccat = (\n",
    "    df[\"INCCAT\"]\n",
    "    .replace(inccat_dict)\n",
    "    .groupby(df[\"HBUS\"])\n",
    "    .value_counts(normalize=True)\n",
    "    .rename(\"frequency\")\n",
    "    .to_frame()\n",
    "    .reset_index()\n",
    ")\n",
    "\n",
    "df_inccat"
   ]
  },
  {
   "cell_type": "code",
   "execution_count": null,
   "id": "6f75dbde",
   "metadata": {},
   "outputs": [],
   "source": [
    "# Create bar chart of `df_inccat`\n",
    "sns.barplot(\n",
    "    x=\"INCCAT\",\n",
    "    y=\"frequency\",\n",
    "    hue=\"HBUS\",\n",
    "    data=df_inccat,\n",
    "    order=inccat_dict.values()\n",
    ")\n",
    "plt.xlabel(\"Income Category\")\n",
    "plt.ylabel(\"Frequency (%)\")\n",
    "plt.title(\"Income Distribution: Business Owners vs. Non-Business Owners\");"
   ]
  },
  {
   "cell_type": "code",
   "execution_count": null,
   "id": "2adba586",
   "metadata": {},
   "outputs": [],
   "source": [
    "# Plot \"HOUSES\" vs \"DEBT\" with hue=label\n",
    "sns.scatterplot(x= df[\"DEBT\"]/1e6,\n",
    "                y= df[\"HOUSES\"]/1e6,\n",
    "                palette=\"deep\"\n",
    "               )\n",
    "plt.xlabel(\"Household Debt [$1M]\")\n",
    "plt.ylabel(\"Home Value [$1M]\")\n",
    "plt.title(\"Home Value vs. Household Debt\");"
   ]
  },
  {
   "cell_type": "code",
   "execution_count": null,
   "id": "658df2f2",
   "metadata": {},
   "outputs": [],
   "source": [
    "mask = (df[\"HBUS\"] == 1) & (df[\"INCOME\"]<500000)\n",
    "df_small_biz = df[mask]\n",
    "print(\"df_small_biz shape:\", df_small_biz.shape)\n",
    "df_small_biz.head()"
   ]
  },
  {
   "cell_type": "code",
   "execution_count": null,
   "id": "85955cd4",
   "metadata": {},
   "outputs": [],
   "source": [
    "# Plot histogram of \"AGE\"\n",
    "df_small_biz[\"AGE\"].hist(bins=10)\n",
    "plt.xlabel(\"Age\"),\n",
    "plt.ylabel(\"Frequency (count)\"),\n",
    "plt.title(\"Small Business Owners: Age Distribution\");"
   ]
  },
  {
   "cell_type": "code",
   "execution_count": null,
   "id": "b99b9cd4",
   "metadata": {},
   "outputs": [],
   "source": [
    "df_small_biz.var().sort_values().tail(10)"
   ]
  },
  {
   "cell_type": "code",
   "execution_count": null,
   "id": "9f43adc3",
   "metadata": {},
   "outputs": [],
   "source": [
    "# Calculate variance, get 10 largest features\n",
    "top_ten_var = df_small_biz.var().sort_values().tail(10)\n",
    "top_ten_var"
   ]
  },
  {
   "cell_type": "code",
   "execution_count": null,
   "id": "4e74ad41",
   "metadata": {},
   "outputs": [],
   "source": [
    "# Create horizontal bar chart of `top_ten_var`\n",
    "fig = px.bar(\n",
    "    x=top_ten_var,\n",
    "    y= top_ten_var.index,\n",
    "    title = \"SCF: High Variance Features\"\n",
    ")"
   ]
  },
  {
   "cell_type": "code",
   "execution_count": null,
   "id": "a244fa71",
   "metadata": {},
   "outputs": [],
   "source": [
    "# Create a boxplot of `NHNFIN`\n",
    "fig = px.box(\n",
    "    data_frame=df,\n",
    "    x=\"NHNFIN\",\n",
    "    title=\"Distribution of Non-home, Non-Financial Assets\"\n",
    ")\n",
    "fig.update_layout(xaxis_title=\"Value [$]\")\n",
    "\n",
    "fig.show()"
   ]
  },
  {
   "cell_type": "code",
   "execution_count": null,
   "id": "9169fba3",
   "metadata": {},
   "outputs": [],
   "source": [
    "# Calculate trimmed variance (to remove outliers)\n",
    "top_ten_trim_var = df_small_biz.apply(trimmed_var, limits=(0.1, 0.1)).sort_values().tail(10)\n",
    "top_ten_trim_var"
   ]
  },
  {
   "cell_type": "code",
   "execution_count": null,
   "id": "156cc300",
   "metadata": {},
   "outputs": [],
   "source": [
    "# Create horizontal bar chart of `top_ten_trim_var`\n",
    "fig = px.bar(\n",
    "    x=top_ten_trim_var,\n",
    "    y= top_ten_trim_var.index,\n",
    "    title = \"SCF: High Variance Features\"\n",
    ")\n",
    "fig.update_layout(xaxis_title=\"Variance\", yaxis_title=\"Feature\")\n",
    "\n",
    "fig.show()"
   ]
  },
  {
   "cell_type": "code",
   "execution_count": null,
   "id": "1f440606",
   "metadata": {},
   "outputs": [],
   "source": [
    "high_var_cols = top_ten_trim_var.tail(5).index.to_list()\n",
    "high_var_cols"
   ]
  },
  {
   "cell_type": "markdown",
   "id": "e10e01a5",
   "metadata": {},
   "source": [
    "### Split"
   ]
  },
  {
   "cell_type": "code",
   "execution_count": null,
   "id": "b8577aed",
   "metadata": {},
   "outputs": [],
   "source": [
    "X = df_small_biz[high_var_cols]\n",
    "print(\"X shape:\", X.shape)"
   ]
  },
  {
   "cell_type": "markdown",
   "id": "fd8382f9",
   "metadata": {},
   "source": [
    "## Build Model"
   ]
  },
  {
   "cell_type": "markdown",
   "id": "693bd4cf",
   "metadata": {},
   "source": [
    "### Iterate"
   ]
  },
  {
   "cell_type": "code",
   "execution_count": null,
   "id": "db6bafd7",
   "metadata": {},
   "outputs": [],
   "source": [
    "n_clusters = range(2, 13)\n",
    "inertia_errors = []\n",
    "silhouette_scores = []\n",
    "\n",
    "# Add `for` loop to train model and calculate inertia, silhouette score.\n",
    "for k in n_clusters:\n",
    "    #Build model\n",
    "    model = make_pipeline(StandardScaler(), KMeans(n_clusters=k, random_state=42))\n",
    "    #Train Model\n",
    "    model.fit(X)\n",
    "    #Calculate inertia\n",
    "    inertia_errors.append(model.named_steps[\"kmeans\"].inertia_)\n",
    "    #Calculate silhouette score\n",
    "    silhouette_scores.append(\n",
    "        silhouette_score(X,model.named_steps[\"kmeans\"].labels_)\n",
    "    )\n",
    "\n",
    "print(\"Inertia:\", inertia_errors[:11])\n",
    "print()\n",
    "print(\"Silhouette Scores:\", silhouette_scores[:3])"
   ]
  },
  {
   "cell_type": "code",
   "execution_count": null,
   "id": "3c56bddd",
   "metadata": {},
   "outputs": [],
   "source": [
    "# Create line plot of `inertia_errors` vs `n_clusters`\n",
    "fig = px.line(\n",
    "    x=n_clusters, y=inertia_errors, title=\"K-Means: Inertia vs Number of Clusters\"\n",
    ")\n",
    "fig.update_layout(xaxis_title=\"Number of Clusters (k)\", yaxis_title=\"Inertia\")\n",
    "\n",
    "fig.show()"
   ]
  },
  {
   "cell_type": "code",
   "execution_count": null,
   "id": "a28aa51e",
   "metadata": {},
   "outputs": [],
   "source": [
    "# Create a line plot of `silhouette_scores` vs `n_clusters`\n",
    "fig = px.line(\n",
    "    x=n_clusters, y=silhouette_scores, title=\"K-Means Model: Silhouette Score vs Number of Clusters\"\n",
    ")\n",
    "fig.update_layout(\n",
    "    xaxis_title=\"Number of Clusters (k)\", yaxis_title=\"Silhouette Score\"\n",
    ")\n",
    "\n",
    "fig.show()"
   ]
  },
  {
   "cell_type": "code",
   "execution_count": null,
   "id": "8607c938",
   "metadata": {},
   "outputs": [],
   "source": [
    "final_model = make_pipeline(\n",
    "    StandardScaler(),\n",
    "    KMeans(n_clusters=3, random_state=42)\n",
    ")\n",
    "# Fit model to data\n",
    "final_model.fit(X)"
   ]
  },
  {
   "cell_type": "markdown",
   "id": "d905580c",
   "metadata": {},
   "source": [
    "## Communicate"
   ]
  },
  {
   "cell_type": "code",
   "execution_count": null,
   "id": "f395e332",
   "metadata": {},
   "outputs": [],
   "source": [
    "# Create side-by-side bar chart of `xgb`\n",
    "fig = px.bar(\n",
    "    xgb,\n",
    "    barmode=\"group\",\n",
    "    title= \"Mean Household Finances by Cluster\"\n",
    ")\n",
    "fig.update_layout(xaxis_title=\"Cluster\", yaxis_title=\"Value [$]\")\n",
    "fig.show()"
   ]
  },
  {
   "cell_type": "code",
   "execution_count": null,
   "id": "cfd3f8cc",
   "metadata": {},
   "outputs": [],
   "source": [
    "# Instantiate transformer\n",
    "pca = PCA(n_components=2, random_state=42)\n",
    "\n",
    "# Transform `X`\n",
    "X_t = pca.fit_transform(X)\n",
    "\n",
    "# Put `X_t` into DataFrame\n",
    "X_pca = pd.DataFrame(X_t, columns=[\"PC1\", \"PC2\"])\n",
    "\n",
    "print(\"X_pca shape:\", X_pca.shape)\n",
    "X_pca.head()"
   ]
  },
  {
   "cell_type": "code",
   "execution_count": null,
   "id": "38060e51",
   "metadata": {},
   "outputs": [],
   "source": [
    "# Create scatter plot of `PC2` vs `PC1`\n",
    "fig = px.scatter(\n",
    "    data_frame=X_pca,\n",
    "    x=\"PC1\",\n",
    "    y=\"PC2\",\n",
    "    color=labels,\n",
    "    title=\"PCA Representation of Clusters\"\n",
    ")\n",
    "fig.update_layout(xaxis_title=\"PC1\", yaxis_title=\"PC2\")\n",
    "fig.show()"
   ]
  }
 ],
 "metadata": {
  "kernelspec": {
   "display_name": "Python 3 (ipykernel)",
   "language": "python",
   "name": "python3"
  },
  "language_info": {
   "codemirror_mode": {
    "name": "ipython",
    "version": 3
   },
   "file_extension": ".py",
   "mimetype": "text/x-python",
   "name": "python",
   "nbconvert_exporter": "python",
   "pygments_lexer": "ipython3",
   "version": "3.9.7"
  }
 },
 "nbformat": 4,
 "nbformat_minor": 5
}
